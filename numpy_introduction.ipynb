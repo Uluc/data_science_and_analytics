{
  "nbformat": 4,
  "nbformat_minor": 0,
  "metadata": {
    "anaconda-cloud": {},
    "kernelspec": {
      "display_name": "Python [conda root]",
      "language": "python",
      "name": "conda-root-py"
    },
    "language_info": {
      "codemirror_mode": {
        "name": "ipython",
        "version": 3
      },
      "file_extension": ".py",
      "mimetype": "text/x-python",
      "name": "python",
      "nbconvert_exporter": "python",
      "pygments_lexer": "ipython3",
      "version": "3.5.2"
    },
    "colab": {
      "name": "lab3.ipynb",
      "provenance": [],
      "include_colab_link": true
    }
  },
  "cells": [
    {
      "cell_type": "markdown",
      "metadata": {
        "id": "view-in-github",
        "colab_type": "text"
      },
      "source": [
        "<a href=\"https://colab.research.google.com/github/Uluc/data_science_and_analytics/blob/main/numpy_introduction.ipynb\" target=\"_parent\"><img src=\"https://colab.research.google.com/assets/colab-badge.svg\" alt=\"Open In Colab\"/></a>"
      ]
    },
    {
      "cell_type": "code",
      "metadata": {
        "id": "M88fY4_7i98_"
      },
      "source": [
        "import numpy as np\n",
        "import matplotlib.pyplot as plt"
      ],
      "execution_count": null,
      "outputs": []
    },
    {
      "cell_type": "markdown",
      "metadata": {
        "id": "vhV4ZOq0i99F"
      },
      "source": [
        "Exercise 1\n",
        "---\n",
        "<font color='red'> Do not use loop in this exercise</font>\n",
        "- Generate an array of length 9 filled with the cyclic pattern 1, 2, 3.\n",
        "- Create an array of the first 10 odd integers. (use arange)\n",
        "- Create a 10 x 10 arrays of zeros and then \"frame\" it with a border of ones.\n",
        "- Create an 8 x 8 array with a checkerboard pattern of zeros and ones using a slicing approach. (hint step = 2)"
      ]
    },
    {
      "cell_type": "code",
      "metadata": {
        "id": "MazNj_Tti99G",
        "outputId": "3aecfbf0-3b15-462f-9cb7-3332e1cabba2",
        "colab": {
          "base_uri": "https://localhost:8080/",
          "height": 363
        }
      },
      "source": [
        "import numpy as np\n",
        "a = np.array([1,2,3]*3)\n",
        "print(a)\n",
        "a = np.arange(1,20,2)\n",
        "print(a)\n",
        "a = np.zeros((10,10))\n",
        "a[1:-1,1:-1] \n",
        "print(a)\n",
        "a = np.zeros((8,8))\n",
        "a[0::1, 0::1]= 1\n",
        "a[1::1, 1::1] = 1\n",
        "\n",
        "print(a)"
      ],
      "execution_count": null,
      "outputs": [
        {
          "output_type": "stream",
          "text": [
            "[1 2 3 1 2 3 1 2 3]\n",
            "[ 1  3  5  7  9 11 13 15 17 19]\n",
            "[[0. 0. 0. 0. 0. 0. 0. 0. 0. 0.]\n",
            " [0. 0. 0. 0. 0. 0. 0. 0. 0. 0.]\n",
            " [0. 0. 0. 0. 0. 0. 0. 0. 0. 0.]\n",
            " [0. 0. 0. 0. 0. 0. 0. 0. 0. 0.]\n",
            " [0. 0. 0. 0. 0. 0. 0. 0. 0. 0.]\n",
            " [0. 0. 0. 0. 0. 0. 0. 0. 0. 0.]\n",
            " [0. 0. 0. 0. 0. 0. 0. 0. 0. 0.]\n",
            " [0. 0. 0. 0. 0. 0. 0. 0. 0. 0.]\n",
            " [0. 0. 0. 0. 0. 0. 0. 0. 0. 0.]\n",
            " [0. 0. 0. 0. 0. 0. 0. 0. 0. 0.]]\n",
            "[[1. 1. 1. 1. 1. 1. 1. 1.]\n",
            " [1. 1. 1. 1. 1. 1. 1. 1.]\n",
            " [1. 1. 1. 1. 1. 1. 1. 1.]\n",
            " [1. 1. 1. 1. 1. 1. 1. 1.]\n",
            " [1. 1. 1. 1. 1. 1. 1. 1.]\n",
            " [1. 1. 1. 1. 1. 1. 1. 1.]\n",
            " [1. 1. 1. 1. 1. 1. 1. 1.]\n",
            " [1. 1. 1. 1. 1. 1. 1. 1.]]\n"
          ],
          "name": "stdout"
        }
      ]
    },
    {
      "cell_type": "markdown",
      "metadata": {
        "id": "JZTX18Ici99L"
      },
      "source": [
        "Exercise 2\n",
        "---\n",
        "<font color='red'> Do not use loop in this exercise</font>\n",
        "\n",
        "Create a random 3×5 array using the 'np.random.rand' function and compute: \n",
        "- the sum of all the entries, \n",
        "- for each row, the sum of the row \n",
        "- for each column, the sum of the column"
      ]
    },
    {
      "cell_type": "code",
      "metadata": {
        "id": "wM2PMH6Hi99L",
        "outputId": "2f05f707-4302-48bd-99ff-0898c9a46d97",
        "colab": {
          "base_uri": "https://localhost:8080/"
        }
      },
      "source": [
        "x = np.random.rand(3, 5)\n",
        "print(x)\n",
        "sum_total = np.sum(x)\n",
        "sum_rows = np.sum(x, axis=0)\n",
        "sum_cols = np.sum(x, axis=1)\n",
        "print(\"Total: \",sum_total)\n",
        "print(\"Rows: \", sum_rows)\n",
        "print(\"Columns:\", sum_cols)"
      ],
      "execution_count": null,
      "outputs": [
        {
          "output_type": "stream",
          "text": [
            "[[0.3284788  0.44642731 0.97868641 0.98796347 0.4011804 ]\n",
            " [0.55065371 0.7447086  0.9921946  0.83503951 0.71289015]\n",
            " [0.31930843 0.76799012 0.17378699 0.789595   0.27881444]]\n",
            "Total:  9.307717959859758\n",
            "Rows:  [1.19844095 1.95912603 2.144668   2.61259798 1.39288499]\n",
            "Columns: [3.1427364  3.83548658 2.32949499]\n"
          ],
          "name": "stdout"
        }
      ]
    },
    {
      "cell_type": "markdown",
      "metadata": {
        "id": "SCMWcvpqi99Q"
      },
      "source": [
        "Exercise 3\n",
        "---\n",
        "- Repeat Exercise 2 for a 2000x3000 array\n",
        "- Alternatively, use loop to compute the total sum, the row sums and the column sums.\n",
        "\n",
        "You can use the time module to record the running time. (An example is given below.) Compare the time needed to calculate the sums by loop and by numpy functions"
      ]
    },
    {
      "cell_type": "code",
      "metadata": {
        "id": "t-3w10rJi99R",
        "outputId": "1f9fcc54-5a85-4a23-935c-5aab208e948c",
        "colab": {
          "base_uri": "https://localhost:8080/",
          "height": 54
        }
      },
      "source": [
        "import time\n",
        "a = np.random.rand(2000,3000)\n",
        "start = time.time()\n",
        "s = np.sum(a)\n",
        "end = time.time()\n",
        "s = 0\n",
        "start2 = time.time()\n",
        "for row in range (2000):\n",
        "    for col in range(3000):\n",
        "      s += a[row,col]\n",
        "      \n",
        "\n",
        "end2 = time.time()\n",
        "print('runing time in sec:', end-start)\n",
        "print('runing time in sec:', end2-start2)"
      ],
      "execution_count": null,
      "outputs": [
        {
          "output_type": "stream",
          "text": [
            "runing time in sec: 0.004595279693603516\n",
            "runing time in sec: 2.0281691551208496\n"
          ],
          "name": "stdout"
        }
      ]
    },
    {
      "cell_type": "markdown",
      "metadata": {
        "id": "T_r_Eyhai99V"
      },
      "source": [
        "Exercise 4\n",
        "---\n",
        "<font color='red'> Do not use loop in this exercise</font>\n",
        "- Create a 1d array on the interval [$−π,π$] with 200 data points.\n",
        "- Evaluate cos and sin for the data points in the array (use np.cos, np.sin)\n",
        "- Stack the results into a 2d array with rows being the (cos(x),sin(x)) entries.\n",
        "- Create two 3x5 random arrays (using np.random.rand). Stack them horizontally to obtain an array of 3x10. Also stack them vertically to obtain an array of 6x5"
      ]
    },
    {
      "cell_type": "code",
      "metadata": {
        "id": "Imi4cbZCi99W",
        "outputId": "37bc0e51-b71d-4b29-cafe-e84ed477d7fa",
        "colab": {
          "base_uri": "https://localhost:8080/",
          "height": 363
        }
      },
      "source": [
        "x = np.linspace(-np.pi, np.pi,200)\n",
        "y1 = np.cos(x)\n",
        "y2 = np.sin(x)\n",
        "y = np.stack([y1,y2], axis=1)\n",
        "print(y.shape)\n",
        "\n",
        "a = np.random.rand(3,5)\n",
        "b = np.random.rand(3,5)\n",
        "h = np.hstack([a,b])\n",
        "v = np.vstack([a,b])\n",
        "\n",
        "print(a)\n",
        "print(b)\n",
        "print(h)\n",
        "print(v)"
      ],
      "execution_count": null,
      "outputs": [
        {
          "output_type": "stream",
          "text": [
            "(200, 2)\n",
            "[[0.35750591 0.7354527  0.667481   0.98228531 0.02308199]\n",
            " [0.01035392 0.62730688 0.12476086 0.31182088 0.51023163]\n",
            " [0.3222292  0.71625247 0.60244332 0.13029153 0.61868304]]\n",
            "[[0.88337308 0.91460505 0.61801115 0.71699325 0.68096201]\n",
            " [0.98551743 0.36831634 0.24719807 0.39714668 0.85764796]\n",
            " [0.01569131 0.17031476 0.2395109  0.63236482 0.94498215]]\n",
            "[[0.35750591 0.7354527  0.667481   0.98228531 0.02308199 0.88337308\n",
            "  0.91460505 0.61801115 0.71699325 0.68096201]\n",
            " [0.01035392 0.62730688 0.12476086 0.31182088 0.51023163 0.98551743\n",
            "  0.36831634 0.24719807 0.39714668 0.85764796]\n",
            " [0.3222292  0.71625247 0.60244332 0.13029153 0.61868304 0.01569131\n",
            "  0.17031476 0.2395109  0.63236482 0.94498215]]\n",
            "[[0.35750591 0.7354527  0.667481   0.98228531 0.02308199]\n",
            " [0.01035392 0.62730688 0.12476086 0.31182088 0.51023163]\n",
            " [0.3222292  0.71625247 0.60244332 0.13029153 0.61868304]\n",
            " [0.88337308 0.91460505 0.61801115 0.71699325 0.68096201]\n",
            " [0.98551743 0.36831634 0.24719807 0.39714668 0.85764796]\n",
            " [0.01569131 0.17031476 0.2395109  0.63236482 0.94498215]]\n"
          ],
          "name": "stdout"
        }
      ]
    },
    {
      "cell_type": "markdown",
      "metadata": {
        "id": "_62O-Io-i99a"
      },
      "source": [
        "Exercise 5\n",
        "---\n",
        "<font color='red'> Do not use loop in this exercise</font>\n",
        "\n",
        "Create a 2d array of shape 3x5 filled with the integer one.\n",
        "- Increase the value of each array entry by 3\n",
        "- Add the array [1, 2, 3, 4, 5] to each row of the 2d array.  \n",
        "- Add the array [1, 2, 3] to each column of the 2d array."
      ]
    },
    {
      "cell_type": "code",
      "metadata": {
        "id": "csXWcAwPi99b",
        "outputId": "be053712-2137-430c-8557-dd0f645d16ad",
        "colab": {
          "base_uri": "https://localhost:8080/",
          "height": 235
        }
      },
      "source": [
        "a = np.ones((3,5))\n",
        "b = np.array([1,2,3,4,5])\n",
        "c = np.array([1,2,3])\n",
        "print(a)\n",
        "print(a+3)\n",
        "print(a+b)\n",
        "print(a+c.reshape((3,1)))"
      ],
      "execution_count": null,
      "outputs": [
        {
          "output_type": "stream",
          "text": [
            "[[1. 1. 1. 1. 1.]\n",
            " [1. 1. 1. 1. 1.]\n",
            " [1. 1. 1. 1. 1.]]\n",
            "[[4. 4. 4. 4. 4.]\n",
            " [4. 4. 4. 4. 4.]\n",
            " [4. 4. 4. 4. 4.]]\n",
            "[[2. 3. 4. 5. 6.]\n",
            " [2. 3. 4. 5. 6.]\n",
            " [2. 3. 4. 5. 6.]]\n",
            "[[2. 2. 2. 2. 2.]\n",
            " [3. 3. 3. 3. 3.]\n",
            " [4. 4. 4. 4. 4.]]\n"
          ],
          "name": "stdout"
        }
      ]
    },
    {
      "cell_type": "markdown",
      "metadata": {
        "id": "-5231SRWi99k"
      },
      "source": [
        "Exercise 6\n",
        "---\n",
        "<font color='red'> Do not use loop in this exercise</font>\n",
        "\n",
        "Create a random 2d array of shape 5x7 using np.random.randn.\n",
        "- calculate the sum of numbers in the array whose value is greater than zero  \n",
        "- calculate the sum of numbers in the array whose value is smaller than -0.05"
      ]
    },
    {
      "cell_type": "code",
      "metadata": {
        "id": "FqliMp8ji99l",
        "outputId": "735bdab0-e6c5-4774-fbd9-4487e39cf624",
        "colab": {
          "base_uri": "https://localhost:8080/",
          "height": 54
        }
      },
      "source": [
        "a = np.random.randn(5, 7)\n",
        "sum_total = np.sum(a, where = [a>0])\n",
        "sum_total2 = np.sum(a, where = [a<0.05])\n",
        "print(sum_total)\n",
        "print(sum_total2)\n"
      ],
      "execution_count": null,
      "outputs": [
        {
          "output_type": "stream",
          "text": [
            "10.64956917601333\n",
            "-11.233144906671473\n"
          ],
          "name": "stdout"
        }
      ]
    },
    {
      "cell_type": "markdown",
      "metadata": {
        "id": "gKz2ejlxi99p"
      },
      "source": [
        "Exercise 7\n",
        "---\n",
        "<font color='red'> Do not use loop in this exercise</font>\n",
        "\n",
        "Create a plot of  $x^2⋅sin(1/x^2)+x$  on the interval [$−π,π$] using 200 points. Mark the position of the points with a triangle. Label the x-axis as 'x' and y-axis as 'Func Value'."
      ]
    },
    {
      "cell_type": "code",
      "metadata": {
        "id": "Yt29f0NWi99p",
        "outputId": "7490249a-05ee-493b-8981-9ce2b0117ded",
        "colab": {
          "base_uri": "https://localhost:8080/",
          "height": 279
        }
      },
      "source": [
        "a =np.linspace(-np.pi, np.pi,200)\n",
        "a2 = a**2\n",
        "y = a2*np.sin(1/a2)+a\n",
        "plt.plot(a,y,'^')\n",
        "plt.xlabel('x')\n",
        "plt.ylabel('Func Value')\n",
        "plt.show()"
      ],
      "execution_count": null,
      "outputs": [
        {
          "output_type": "display_data",
          "data": {
            "image/png": "[encoded data removed]",
            "text/plain": [
              "<Figure size 432x288 with 1 Axes>"
            ]
          },
          "metadata": {
            "tags": [],
            "needs_background": "light"
          }
        }
      ]
    }
  ]
}