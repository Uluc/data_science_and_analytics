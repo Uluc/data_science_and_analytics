{
  "nbformat": 4,
  "nbformat_minor": 0,
  "metadata": {
    "anaconda-cloud": {},
    "kernelspec": {
      "name": "python3",
      "display_name": "Python 3"
    },
    "colab": {
      "name": "Uluc_Homework2.ipynb",
      "provenance": [],
      "collapsed_sections": [],
      "include_colab_link": true
    }
  },
  "cells": [
    {
      "cell_type": "markdown",
      "metadata": {
        "id": "view-in-github",
        "colab_type": "text"
      },
      "source": [
        "<a href=\"https://colab.research.google.com/github/Uluc/data_science_and_analytics/blob/main/model_accuracy_tests.ipynb\" target=\"_parent\"><img src=\"https://colab.research.google.com/assets/colab-badge.svg\" alt=\"Open In Colab\"/></a>"
      ]
    },
    {
      "cell_type": "markdown",
      "metadata": {
        "id": "4kL6Y_KHVfNd"
      },
      "source": [
        "***"
      ]
    },
    {
      "cell_type": "code",
      "metadata": {
        "id": "wjp7pm1BVfNe",
        "colab": {
          "base_uri": "https://localhost:8080/"
        },
        "outputId": "3543d55e-5ff3-4105-c383-4e71b36b0873"
      },
      "source": [
        "%pylab inline\n",
        "import warnings\n",
        "warnings.filterwarnings('ignore')"
      ],
      "execution_count": null,
      "outputs": [
        {
          "output_type": "stream",
          "text": [
            "Populating the interactive namespace from numpy and matplotlib\n"
          ],
          "name": "stdout"
        }
      ]
    },
    {
      "cell_type": "code",
      "metadata": {
        "id": "-rVwJUNIVfNk"
      },
      "source": [
        "from sklearn.datasets import load_files\n",
        "from sklearn.model_selection import train_test_split"
      ],
      "execution_count": null,
      "outputs": []
    },
    {
      "cell_type": "code",
      "metadata": {
        "id": "Cil5lI9fVfNn"
      },
      "source": [
        "from sklearn.model_selection import GridSearchCV\n",
        "from sklearn.metrics import accuracy_score, f1_score "
      ],
      "execution_count": null,
      "outputs": []
    },
    {
      "cell_type": "markdown",
      "metadata": {
        "id": "-d0fGTrQVfNp"
      },
      "source": [
        "### The movie review dataset"
      ]
    },
    {
      "cell_type": "code",
      "metadata": {
        "id": "HQhG5h3RVfNp"
      },
      "source": [
        "import cloudpickle as cp\n",
        "from urllib.request import urlopen\n",
        "dataset = cp.load(urlopen(\"https://drive.google.com/uc?export=download&id=1tqjekAEy_SM_sJUvjIBbajp6I-_WmHgj\"))"
      ],
      "execution_count": null,
      "outputs": []
    },
    {
      "cell_type": "code",
      "metadata": {
        "id": "mEbdEgPN_C78",
        "colab": {
          "base_uri": "https://localhost:8080/"
        },
        "outputId": "92627026-eba8-4bb7-ffc8-5b39f094466e"
      },
      "source": [
        "print(len(dataset.target))\n",
        "print(dataset.data[220])"
      ],
      "execution_count": null,
      "outputs": [
        {
          "output_type": "stream",
          "text": [
            "2000\n",
            "at the outset of swordfish , john travolta's gabriel shear is pontificating about the status of american cinema today . \n",
            "basically , he says , it boils down to a lack of imagination among the majority of writers . \n",
            "how ironic , as travolta seems to be describing his latest venture . \n",
            "swordfish is loud , violent and amoral . \n",
            "it has the audacity to justify murder and mayhem in the name of sustaining our way of life . \n",
            "and how does travolta's gabriel plan to do this ? \n",
            "by robbing billions from his own government and using the funds to out-terrorize terrorists . \n",
            "swordfish is a very cynical movie . \n",
            "it relies on an audience's perception of our leaders as ineffectual and duplicitous and on terrorists as non-human , faceless entities not worthy of compassion or consideration . \n",
            "the movie's plot is preposterous with enough illogical leaps that if the film ever slowed down , you'd actually see how ridiculous it all is . \n",
            "this is a live-action road runner cartoon , moving so quickly that it's over before you can catch your breath to ask any reasonable questions . \n",
            "the storyline revolves around super hacker stanley jobson ( hugh jackman ) , recruited by gabriel to crack the government's computer codes so gabriel can gather billions for his anti-terrorist campaign . \n",
            "talk about whacked-out patriotism . \n",
            "my objections to swordfish are many . \n",
            "the body count is high , but that is expected in a movie of this sort . \n",
            "it's becoming a bore watching anonymous soldiers , police officers and government agents blown to bits . \n",
            "another example is the family dynamics between stanley , his 10-year-old daughter and his ex-wife . \n",
            "stanley , though having served time in prison for hacking , is shown as a loving and caring father , forbidden by his ex to see his little girl . \n",
            "audience animosity is immediately created for his former spouse by showing her as a drinker and smoker who also sometimes stars in her new husband's adult films . \n",
            "thus when she is found murdered late in the movie , neither stanley nor his daughter are allowed any time to grieve . \n",
            "in fact , subconsciously , many in the audience are probably glad she was killed . \n",
            "then there is the sequence involving one of gabriel's henchman holding a gun to the head of stanley's daughter to coerce the hacker to download the key computer program for gabriel . \n",
            "children as pawns have become a most unwelcome clich ? in recent films . \n",
            "there is enough violence in the real world involving children without having to make them on-screen victims as well . \n",
            "yea , it's only make believe , but that doesn't mean you have to tolerate it . \n",
            "travolta is cool , deadly charming and flamboyant as the near-crazy gabriel . \n",
            "his character is reminiscent of his villainous characterizations in broken arrow and face/off . \n",
            "jackman looks dour through most of the proceedings . \n",
            "his only moment of any depth comes when he finally is able to create the worm to get inside the government database . \n",
            "his sense of joy and accomplishment is one any computer whiz can appreciate . \n",
            "halle berry is decorative and lovely as gabriel's assistant , while don cheadle is given little to do as the head fbi agent hunting gabriel . \n",
            "swordfish plays like a comic book with a larger-than-life character in gabriel . \n",
            "viewers align themselves with him despite their uncertainty if he is hero or villain . \n",
            "and maybe that is the movie's underlying flaw : there is no real hero to speak of , only those doing their upmost to survive . \n",
            "and that is not enough . \n",
            "this is one swordfish that should have been thrown back in the water . \n",
            "\n"
          ],
          "name": "stdout"
        }
      ]
    },
    {
      "cell_type": "code",
      "metadata": {
        "id": "vQf0Umd_VfNs"
      },
      "source": [
        "docs_train, docs_test, y_train, y_test = train_test_split(dataset.data, dataset.target, test_size=0.25, random_state=123)"
      ],
      "execution_count": null,
      "outputs": []
    },
    {
      "cell_type": "markdown",
      "metadata": {
        "id": "4lmI2mFaVfNu"
      },
      "source": [
        "Task 1 \n",
        "---\n",
        "Use TfidfVectorizer to fit_transform the training data (docs_train) and then transform the test data (docs_test)"
      ]
    },
    {
      "cell_type": "code",
      "metadata": {
        "id": "K2s1QIU9VfNv"
      },
      "source": [
        "from sklearn.feature_extraction.text import TfidfVectorizer\n",
        "tfidf = TfidfVectorizer(min_df=3, max_df=0.95)\n",
        "train_data = tfidf.fit_transform(docs_train)\n",
        "test_data = tfidf.transform(docs_test)"
      ],
      "execution_count": null,
      "outputs": []
    },
    {
      "cell_type": "markdown",
      "metadata": {
        "id": "-vdPNYZWVfNz"
      },
      "source": [
        "Task 2 \n",
        "---\n",
        "Build a SVC model to predict whether a movie review is positive or negative. Test the model accuracy on the test data. Try different values (0.01, 0.1, 1, 10) for the hyper parameter 'C' and print out the model accuracy for each of the parameter value."
      ]
    },
    {
      "cell_type": "code",
      "metadata": {
        "id": "VztOGBXaVfN0",
        "colab": {
          "base_uri": "https://localhost:8080/"
        },
        "outputId": "53283f1b-a91d-4f86-f121-20d4477085f3"
      },
      "source": [
        "from sklearn.svm import SVC\n",
        "from sklearn.pipeline import Pipeline\n",
        "\n",
        "values = [0.01, 0.1, 1, 10]\n",
        "for c in values:\n",
        "\n",
        "    model = SVC(kernel='linear', C=c)\n",
        "    m = Pipeline([('vect', tfidf), ('svc', model)])\n",
        "    m.fit(docs_train, y_train)\n",
        "    y_pred = m.predict(docs_test)\n",
        "    print(\"C: \", c)\n",
        "    print(\"Accuracy Score: \", accuracy_score(y_test, y_pred))"
      ],
      "execution_count": null,
      "outputs": [
        {
          "output_type": "stream",
          "text": [
            "C:  0.01\n",
            "Accuracy Score:  0.492\n",
            "C:  0.1\n",
            "Accuracy Score:  0.59\n",
            "C:  1\n",
            "Accuracy Score:  0.844\n",
            "C:  10\n",
            "Accuracy Score:  0.842\n"
          ],
          "name": "stdout"
        }
      ]
    },
    {
      "cell_type": "markdown",
      "metadata": {
        "id": "WHc9S4QTVfN2"
      },
      "source": [
        "Task 3\n",
        "---\n",
        "Naive Bayes is a prediction model based on applying Bayes’ theorem with the “naive” assumption of conditional independence between every pair of features given the value of the class variable.\n",
        "\n",
        "Build a Naive Bayes model to predict whether a movie review is positive or negative. Test the model accuracy on the test data."
      ]
    },
    {
      "cell_type": "code",
      "metadata": {
        "id": "9IL6TBpDVfN3",
        "colab": {
          "base_uri": "https://localhost:8080/"
        },
        "outputId": "0f1e587e-11e6-42ac-a86b-304e2111e573"
      },
      "source": [
        "from sklearn.naive_bayes import MultinomialNB\n",
        "bayes = MultinomialNB(alpha=0.59)\n",
        "bayes.fit(train_data, y_train)\n",
        "y_pred = bayes.predict(test_data)\n",
        "print(\"Accuracy Score: \",accuracy_score(y_test, y_pred))"
      ],
      "execution_count": null,
      "outputs": [
        {
          "output_type": "stream",
          "text": [
            "Accuracy Score:  0.81\n"
          ],
          "name": "stdout"
        }
      ]
    },
    {
      "cell_type": "markdown",
      "metadata": {
        "id": "0OC9jLH7VfN4"
      },
      "source": [
        "Task 4\n",
        "---\n",
        "A random forest is a ensemble (collective) model that fits a number of decision tree classifiers on various sub-samples of the dataset and uses averaging to improve the predictive accuracy and control over-fitting.\n",
        "\n",
        "Build a random forest model to predict whether a movie review is positive or negative. Test the model accuracy on the test data. Try different values (20, 100, 500) for the hyper parameter 'n_estimators', i.e., the number of decision trees in the ensemble, and print out the model accuracy for each of the parameter value."
      ]
    },
    {
      "cell_type": "code",
      "metadata": {
        "id": "JEm4w2GwVfN5",
        "colab": {
          "base_uri": "https://localhost:8080/"
        },
        "outputId": "df5d07cf-e46b-40e2-c21a-4d361c85db8c"
      },
      "source": [
        "from sklearn.ensemble import RandomForestClassifier\n",
        "\n",
        "values = [20, 100, 500]\n",
        "\n",
        "for i in values :\n",
        "  random_forest = RandomForestClassifier(max_depth=2, random_state=0, n_estimators=i)\n",
        "  random_forest.fit(train_data, y_train)\n",
        "  y_pred = random_forest.predict(test_data)\n",
        "  print(\"Accuracy Score: \",accuracy_score(y_test, y_pred))\n",
        "  "
      ],
      "execution_count": null,
      "outputs": [
        {
          "output_type": "stream",
          "text": [
            "Accuracy Score:  0.65\n",
            "Accuracy Score:  0.73\n",
            "Accuracy Score:  0.76\n"
          ],
          "name": "stdout"
        }
      ]
    },
    {
      "cell_type": "markdown",
      "metadata": {
        "id": "huHnUxFZVfN7"
      },
      "source": [
        "### From the above tasks, you can observe that different models and different choice of hyper-parameter values can lead to quite different prediction performance. What is the model (and hyper-parameter) among the above that gives the best prediction? What is the worst?"
      ]
    },
    {
      "cell_type": "markdown",
      "metadata": {
        "id": "GIfwmLMGvTEc"
      },
      "source": [
        "SVC Model on C 1 Gives the best prediction at 0.844\n",
        "\n",
        "\n",
        "SVC Model on C 0.01 Gives the worst prediction at 0.492"
      ]
    }
  ]
}
