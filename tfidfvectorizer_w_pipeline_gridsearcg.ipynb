{
  "nbformat": 4,
  "nbformat_minor": 0,
  "metadata": {
    "anaconda-cloud": {},
    "kernelspec": {
      "display_name": "Python [conda root]",
      "language": "python",
      "name": "conda-root-py"
    },
    "language_info": {
      "codemirror_mode": {
        "name": "ipython",
        "version": 3
      },
      "file_extension": ".py",
      "mimetype": "text/x-python",
      "name": "python",
      "nbconvert_exporter": "python",
      "pygments_lexer": "ipython3",
      "version": "3.5.2"
    },
    "colab": {
      "name": "lab6.ipynb",
      "provenance": [],
      "collapsed_sections": [],
      "include_colab_link": true
    }
  },
  "cells": [
    {
      "cell_type": "markdown",
      "metadata": {
        "id": "view-in-github",
        "colab_type": "text"
      },
      "source": [
        "<a href=\"https://colab.research.google.com/github/Uluc/data_science_and_analytics/blob/main/tfidfvectorizer_w_pipeline_gridsearcg.ipynb\" target=\"_parent\"><img src=\"https://colab.research.google.com/assets/colab-badge.svg\" alt=\"Open In Colab\"/></a>"
      ]
    },
    {
      "cell_type": "code",
      "metadata": {
        "id": "VPFUkubOlsvT",
        "colab": {
          "base_uri": "https://localhost:8080/"
        },
        "outputId": "dbef09de-724c-4548-ae13-1a1008762515"
      },
      "source": [
        "%pylab inline"
      ],
      "execution_count": 14,
      "outputs": [
        {
          "output_type": "stream",
          "text": [
            "Populating the interactive namespace from numpy and matplotlib\n"
          ],
          "name": "stdout"
        }
      ]
    },
    {
      "cell_type": "code",
      "metadata": {
        "id": "n0hMIxdwlsvW"
      },
      "source": [
        "import warnings\n",
        "warnings.filterwarnings('ignore')"
      ],
      "execution_count": 5,
      "outputs": []
    },
    {
      "cell_type": "code",
      "metadata": {
        "id": "k2c69kuHlsvZ"
      },
      "source": [
        "from sklearn.svm import SVC\n",
        "from sklearn.pipeline import Pipeline\n",
        "from sklearn.model_selection import GridSearchCV\n",
        "from sklearn.datasets import fetch_20newsgroups\n",
        "from sklearn.model_selection import train_test_split\n",
        "from sklearn.feature_extraction.text import TfidfVectorizer\n",
        "\n",
        "from sklearn.metrics import accuracy_score, f1_score "
      ],
      "execution_count": 6,
      "outputs": []
    },
    {
      "cell_type": "code",
      "metadata": {
        "id": "qeVRygzdlsvf",
        "colab": {
          "base_uri": "https://localhost:8080/"
        },
        "outputId": "774d4dfd-ddb9-471d-924e-17d2b5899db0"
      },
      "source": [
        "categories = [\n",
        "    'comp.graphics',\n",
        "    'sci.space',\n",
        "]\n",
        "dataset = fetch_20newsgroups(subset='train', categories=categories)\n",
        "dir(dataset)"
      ],
      "execution_count": 7,
      "outputs": [
        {
          "output_type": "stream",
          "text": [
            "Downloading 20news dataset. This may take a few minutes.\n",
            "Downloading dataset from https://ndownloader.figshare.com/files/5975967 (14 MB)\n"
          ],
          "name": "stderr"
        },
        {
          "output_type": "execute_result",
          "data": {
            "text/plain": [
              "['DESCR', 'data', 'filenames', 'target', 'target_names']"
            ]
          },
          "metadata": {
            "tags": []
          },
          "execution_count": 7
        }
      ]
    },
    {
      "cell_type": "code",
      "metadata": {
        "id": "Csvz9SuUMsgT"
      },
      "source": [
        "type(dataset.data[0])"
      ],
      "execution_count": null,
      "outputs": []
    },
    {
      "cell_type": "code",
      "metadata": {
        "id": "wdmBxmhxlsvh"
      },
      "source": [
        "print(dataset.data[1])"
      ],
      "execution_count": null,
      "outputs": []
    },
    {
      "cell_type": "code",
      "metadata": {
        "id": "icrbiFizlsvj",
        "colab": {
          "base_uri": "https://localhost:8080/"
        },
        "outputId": "a371789a-9d11-4773-9400-902c3459fdde"
      },
      "source": [
        "print(dataset.target[:10])"
      ],
      "execution_count": 8,
      "outputs": [
        {
          "output_type": "stream",
          "text": [
            "[0 1 0 1 1 0 0 1 0 0]\n"
          ],
          "name": "stdout"
        }
      ]
    },
    {
      "cell_type": "code",
      "metadata": {
        "id": "rGycilttlsvk"
      },
      "source": [
        "docs_train, docs_test, y_train, y_test = train_test_split(dataset.data, dataset.target, test_size=0.25, random_state=123)"
      ],
      "execution_count": 10,
      "outputs": []
    },
    {
      "cell_type": "markdown",
      "metadata": {
        "id": "Ckk-GGNulsvm"
      },
      "source": [
        "Preprocessing\n",
        "---\n",
        "We use TfidfVectorizer from sklearn.feature_extraction.text to convert each of the documents in docs_train into a Bag-of-Words vector (with idf modification). The docs_train collection will be a matrix. \n",
        "\n",
        "Bag-of-Words Representation\n",
        "---\n",
        "- Assign a fixed integer id to each word occurring in any document of the training set (for instance by building a dictionary from words to integer indices).\n",
        "- For each document #i, count the number of occurrences of each word w and store it in X[i, j] as the value of attribute/feature #j where j is the index of word w in the dictionary.\n",
        "\n",
        "The bags of words representation implies that # of attributes is the number of distinct words in the corpus: this number is typically very large.\n",
        "\n",
        "To deal with the problem that longer documents have higher average count values than shorter documents, we divide the number of occurrences of each word in a document by the total number of words in the document: these new features are called tf (*Term Frequencies*).\n",
        "\n",
        "We also downscale weights for words that occur in many documents in the dataset/corpus and are therefore less informative than those that occur only in a smaller portion of the dataset/corpus. The result is tf-idf (*Term Frequency times Inverse Document Frequency*)"
      ]
    },
    {
      "cell_type": "code",
      "metadata": {
        "id": "LDXxfGK2lsvn",
        "colab": {
          "base_uri": "https://localhost:8080/"
        },
        "outputId": "aec466c7-d0ee-451b-e6f9-4c60125b0ba3"
      },
      "source": [
        "vect = TfidfVectorizer(min_df=3, max_df=0.95)\n",
        "dm = vect.fit_transform(docs_train)\n",
        "dm.shape"
      ],
      "execution_count": 11,
      "outputs": [
        {
          "output_type": "execute_result",
          "data": {
            "text/plain": [
              "(882, 6510)"
            ]
          },
          "metadata": {
            "tags": []
          },
          "execution_count": 11
        }
      ]
    },
    {
      "cell_type": "code",
      "metadata": {
        "id": "9VvUiSnaN_uN"
      },
      "source": [
        "help(TfidfVectorizer)"
      ],
      "execution_count": null,
      "outputs": []
    },
    {
      "cell_type": "code",
      "metadata": {
        "id": "XI0jBbFulsvs",
        "colab": {
          "base_uri": "https://localhost:8080/",
          "height": 282
        },
        "outputId": "46eb44ea-8659-4aef-8de5-50af33e10f60"
      },
      "source": [
        "def to_numpy(v):\n",
        "    return np.array(v.todense())[0]\n",
        "\n",
        "d1 = to_numpy(dm[0])\n",
        "plot(d1)\n",
        "print(len(np.nonzero(d1)[0]))"
      ],
      "execution_count": 15,
      "outputs": [
        {
          "output_type": "stream",
          "text": [
            "112\n"
          ],
          "name": "stdout"
        },
        {
          "output_type": "display_data",
          "data": {
            "image/png": "[encoded data removed]",
            "text/plain": [
              "<Figure size 432x288 with 1 Axes>"
            ]
          },
          "metadata": {
            "tags": [],
            "needs_background": "light"
          }
        }
      ]
    },
    {
      "cell_type": "markdown",
      "metadata": {
        "id": "zbyQQKRulsvu"
      },
      "source": [
        "Task 1 \n",
        "---\n",
        "Build a pipeline that inlcude a TfidfVectorizer and a SVC classifier (use kernel='linear'). Train the model and use it to make predictions on the test data. Calculate the accuracy score of the model on the test data. "
      ]
    },
    {
      "cell_type": "code",
      "metadata": {
        "id": "qhCkoISLlsvv"
      },
      "source": [
        "tfidf = TfidfVectorizer(min_df=3, max_df=0.95)\n",
        "svc = SVC(kernel='linear')\n",
        "m = Pipeline([('vect', tfidf), ('svc', svc)])"
      ],
      "execution_count": 16,
      "outputs": []
    },
    {
      "cell_type": "code",
      "metadata": {
        "colab": {
          "base_uri": "https://localhost:8080/"
        },
        "id": "h27uh1GvN_BR",
        "outputId": "bde81b5e-d867-44c1-8918-affa5e98b740"
      },
      "source": [
        "m.fit(docs_train, y_train)\n",
        "y_predicted = m.predict(docs_test)\n",
        "print(accuracy_score(y_test, y_predicted))"
      ],
      "execution_count": 17,
      "outputs": [
        {
          "output_type": "stream",
          "text": [
            "0.9864406779661017\n"
          ],
          "name": "stdout"
        }
      ]
    },
    {
      "cell_type": "markdown",
      "metadata": {
        "id": "HltlTfjdlsvw"
      },
      "source": [
        "Task 2\n",
        "---\n",
        "Using GridSearchCV, do a search to find the best values for: \n",
        " - parameter 'ngram_range' of the TfidfVectorizer, try (1, 1) and (1, 2) \n",
        " - parameter 'C' of SVC, try 1000 and 10000 \n",
        " \n",
        "Print the best hyper parameter values. "
      ]
    },
    {
      "cell_type": "code",
      "metadata": {
        "id": "hh9dZMVSlsvx",
        "colab": {
          "base_uri": "https://localhost:8080/"
        },
        "outputId": "e5db826f-c8e7-4530-9fdc-973e578e5e55"
      },
      "source": [
        "m = Pipeline([('vect', tfidf), ('svc', svc)])\n",
        "params = {'svc__C':[1000, 10000], 'vect__ngram_range':[(1, 1), (1, 2)]}\n",
        "\n",
        "cv = GridSearchCV(m, params, cv=5)\n",
        "\n",
        "cv.fit(docs_train, y_train)\n",
        "\n",
        "\n",
        "print(cv.best_params_)\n"
      ],
      "execution_count": 18,
      "outputs": [
        {
          "output_type": "stream",
          "text": [
            "{'svc__C': 1000, 'vect__ngram_range': (1, 2)}\n"
          ],
          "name": "stdout"
        }
      ]
    },
    {
      "cell_type": "markdown",
      "metadata": {
        "id": "lwAezMVolsvz"
      },
      "source": [
        "Use the best model found by the grid search to make predictions on the test data. Print the accuracy score."
      ]
    },
    {
      "cell_type": "code",
      "metadata": {
        "id": "VYqz6XVRZ1Uh",
        "colab": {
          "base_uri": "https://localhost:8080/"
        },
        "outputId": "95b0f488-8d1d-4f62-f59f-90fbdc27d8e3"
      },
      "source": [
        "\n",
        "best_model = cv.best_estimator_.predict(docs_test)\n",
        "print(accuracy_score(y_test, best_model))"
      ],
      "execution_count": 19,
      "outputs": [
        {
          "output_type": "stream",
          "text": [
            "0.9898305084745763\n"
          ],
          "name": "stdout"
        }
      ]
    },
    {
      "cell_type": "code",
      "metadata": {
        "colab": {
          "base_uri": "https://localhost:8080/"
        },
        "id": "U7qz66zSPLD4",
        "outputId": "97c03ac8-3d24-4f5f-9c90-40bba4812056"
      },
      "source": [
        "from sklearn.metrics import classification_report\n",
        "print(classification_report(y_test, best_model, target_names=dataset.target_names))"
      ],
      "execution_count": 20,
      "outputs": [
        {
          "output_type": "stream",
          "text": [
            "               precision    recall  f1-score   support\n",
            "\n",
            "comp.graphics       0.98      1.00      0.99       134\n",
            "    sci.space       1.00      0.98      0.99       161\n",
            "\n",
            "     accuracy                           0.99       295\n",
            "    macro avg       0.99      0.99      0.99       295\n",
            " weighted avg       0.99      0.99      0.99       295\n",
            "\n"
          ],
          "name": "stdout"
        }
      ]
    }
  ]
}