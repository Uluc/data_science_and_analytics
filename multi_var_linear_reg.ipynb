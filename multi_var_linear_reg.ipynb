{
  "nbformat": 4,
  "nbformat_minor": 0,
  "metadata": {
    "anaconda-cloud": {},
    "kernelspec": {
      "display_name": "Python [conda root]",
      "language": "python",
      "name": "conda-root-py"
    },
    "language_info": {
      "codemirror_mode": {
        "name": "ipython",
        "version": 3
      },
      "file_extension": ".py",
      "mimetype": "text/x-python",
      "name": "python",
      "nbconvert_exporter": "python",
      "pygments_lexer": "ipython3",
      "version": "3.5.2"
    },
    "colab": {
      "name": "Homework1 Uluc_Ozdenvar.ipynb",
      "provenance": [],
      "collapsed_sections": [],
      "include_colab_link": true
    }
  },
  "cells": [
    {
      "cell_type": "markdown",
      "metadata": {
        "id": "view-in-github",
        "colab_type": "text"
      },
      "source": [
        "<a href=\"https://colab.research.google.com/github/Uluc/data_science_and_analytics/blob/main/multi_var_linear_reg.ipynb\" target=\"_parent\"><img src=\"https://colab.research.google.com/assets/colab-badge.svg\" alt=\"Open In Colab\"/></a>"
      ]
    },
    {
      "cell_type": "markdown",
      "metadata": {
        "id": "JFZkM3F7lTnc"
      },
      "source": [
        "Homework 1\n",
        "---\n",
        "**Due Nov. 5 by end of the day.**\n",
        "\n",
        "Do all your work on this notebook. Submit your homework by uploading the notebook file to moodle. Your submission notebook should contain:\n",
        "\n",
        "- Code\n",
        "- Output from running your code (printouts and plots)\n",
        "- Answer to any questions or any comments (type in a markdown cell)"
      ]
    },
    {
      "cell_type": "markdown",
      "metadata": {
        "id": "nVepX6MIlTnf"
      },
      "source": [
        "***"
      ]
    },
    {
      "cell_type": "markdown",
      "metadata": {
        "id": "h4c1t0A2lTng"
      },
      "source": [
        "**Task 1**: load the data in the [wines.csv](https://drive.google.com/open?id=1QrQ5Qqr-w4Qx-WPToDHrvFxM9iyS7O1N) data file into a numpy array.\n",
        "(The following code reads the wines.csv into a Pandas dataframe. Your task is to convert the dataframe to a numpy array.) Your array should contain the data only. The header should be omitted."
      ]
    },
    {
      "cell_type": "code",
      "metadata": {
        "id": "QWaaUK8blTnh",
        "outputId": "3ee20ab8-8fef-4f4d-a00e-a859b4b785dc",
        "colab": {
          "base_uri": "https://localhost:8080/"
        }
      },
      "source": [
        "import pandas as pd\n",
        "import numpy as np\n",
        "url = 'https://drive.google.com/uc?export=download&id=1QrQ5Qqr-w4Qx-WPToDHrvFxM9iyS7O1N'\n",
        "df = pd.read_csv(url)\n",
        "x = df.to_numpy()\n",
        "print(x)"
      ],
      "execution_count": null,
      "outputs": [
        {
          "output_type": "stream",
          "text": [
            "[[ 7.4    0.7    0.    ...  0.56   9.4    5.   ]\n",
            " [ 7.8    0.88   0.    ...  0.68   9.8    5.   ]\n",
            " [ 7.8    0.76   0.04  ...  0.65   9.8    5.   ]\n",
            " ...\n",
            " [ 6.3    0.51   0.13  ...  0.75  11.     6.   ]\n",
            " [ 5.9    0.645  0.12  ...  0.71  10.2    5.   ]\n",
            " [ 6.     0.31   0.47  ...  0.66  11.     6.   ]]\n"
          ],
          "name": "stdout"
        }
      ]
    },
    {
      "cell_type": "markdown",
      "metadata": {
        "collapsed": true,
        "id": "NfWErvvQlTnj"
      },
      "source": [
        "**Task 2**: \n",
        "- Calculate and print the average quality measure over all the wines\n",
        "- Find and print the maximum level of residual sugar and minimum level of fixed acidity  \n"
      ]
    },
    {
      "cell_type": "code",
      "metadata": {
        "id": "M4FE_xPvlTnk",
        "outputId": "8c5c2edb-4978-4cb6-c925-c278d79c5dd2",
        "colab": {
          "base_uri": "https://localhost:8080/"
        }
      },
      "source": [
        "avg_quality = x[:,-1:].mean()\n",
        "max_residual_sugar = x[:,3:4].max()\n",
        "min_fixed_acidity = x[:,:1].min()\n",
        "print(avg_quality)\n",
        "print(max_residual_sugar)\n",
        "print(min_fixed_acidity)"
      ],
      "execution_count": null,
      "outputs": [
        {
          "output_type": "stream",
          "text": [
            "5.6360225140712945\n",
            "15.5\n",
            "4.6\n"
          ],
          "name": "stdout"
        }
      ]
    },
    {
      "cell_type": "markdown",
      "metadata": {
        "collapsed": true,
        "id": "PzRZl_vnlTnm"
      },
      "source": [
        "**Task 3:**\n",
        "\n",
        "- Use LinearRegression from sklearn.linear_model to build and train a linear model that predicts the wine 'quality' from the wine 'volatile acidity' value. \n",
        "\n",
        "- Use scatter plot to plot the points (x, y) where x is volatile acidity and y is quality. Your linear model represents a line in such x-y space. Plot this line on top of the scatter plot (i.e., having both the scatter plot and the line plot on the same figure).  "
      ]
    },
    {
      "cell_type": "code",
      "metadata": {
        "id": "znUQt5UJlTnn",
        "outputId": "89cc31bb-c7d9-4357-dd67-6267e0fe4a0e",
        "colab": {
          "base_uri": "https://localhost:8080/",
          "height": 282
        }
      },
      "source": [
        "from sklearn.linear_model import LinearRegression\n",
        "import matplotlib.pyplot as plt\n",
        "\n",
        "model = LinearRegression(fit_intercept=True)\n",
        "\n",
        "x_val = x[:, 1:2]\n",
        "y_val = x[:, -1:]\n",
        "\n",
        "x_con = np.concatenate(x_val)\n",
        "y_con = np.concatenate(y_val)\n",
        "\n",
        "model.fit(x_val, y_con)\n",
        "\n",
        "xfit = np.linspace(0, 1.75, 1000)\n",
        "yfit = model.predict(xfit[:, np.newaxis])\n",
        "\n",
        "plt.plot(xfit, yfit);\n",
        "plt.scatter(x_con, y_con)\n"
      ],
      "execution_count": null,
      "outputs": [
        {
          "output_type": "execute_result",
          "data": {
            "text/plain": [
              "<matplotlib.collections.PathCollection at 0x7f5cdd059be0>"
            ]
          },
          "metadata": {
            "tags": []
          },
          "execution_count": 181
        },
        {
          "output_type": "display_data",
          "data": {
            "image/png": "[encoded data removed]",
            "text/plain": [
              "<Figure size 432x288 with 1 Axes>"
            ]
          },
          "metadata": {
            "tags": [],
            "needs_background": "light"
          }
        }
      ]
    },
    {
      "cell_type": "markdown",
      "metadata": {
        "id": "E_S8T7gklTnp"
      },
      "source": [
        "**Task 4:**\n",
        "\n",
        "- Use LinearRegression to build and train a linear model that predicts the wine 'quality' from all the other wine property values. (Naturally, your model should not use wine 'quality' as an input to predict wine 'quality'. The prediction should be based on all OTHER values.)\n",
        "\n",
        "- For each wine, make a prediction using your model. You also have the true wine quality value. Calculate the squared error (SE), i.e., squared difference between your prediction and the true value. Average the SE among all wines to obtain the mean squared error (MSE)\n",
        "\n",
        "- Calculate MSE for the linear model from task 3 that makes prediction using only the 'volatile acidity' value. Compare the MSE between the two models. Which one is better?"
      ]
    },
    {
      "cell_type": "code",
      "metadata": {
        "id": "urJW0U5_lTnq",
        "outputId": "8cd9c717-6dd3-4d8c-b37d-7dca3788bcbe",
        "colab": {
          "base_uri": "https://localhost:8080/"
        }
      },
      "source": [
        "from sklearn.metrics import mean_squared_error\n",
        "\n",
        "model2 = LinearRegression(fit_intercept=True)\n",
        "\n",
        "x_val2 = x[:, :-1]\n",
        "y_val2 = x[:, -1:]\n",
        "\n",
        "y_con2 = np.concatenate(y_val2)\n",
        "y_true = y_con2\n",
        "\n",
        "#print(x_val2.shape, y_con2.shape)\n",
        "\n",
        "model2.fit(x_val2, y_con2)\n",
        "\n",
        "#print(model2.intercept_)\n",
        "#print(model2.coef_)\n",
        "\n",
        "y_predicted2 = model2.predict(x_val2)\n",
        "y_dif2 = y_true - y_predicted2\n",
        "y_dif2 = y_dif2**2\n",
        "square_error2 = sum(y_dif2)/len(y_dif2)\n",
        "print(\"MSE Question 4= \", square_error2)\n",
        "\n",
        "y_predicted = model.predict(x_val)\n",
        "y_dif = y_true - y_predicted\n",
        "y_dif = y_dif**2\n",
        "square_error = sum(y_dif)/len(y_dif)\n",
        "print(\"MSE Question 3= \", square_error)\n"
      ],
      "execution_count": null,
      "outputs": [
        {
          "output_type": "stream",
          "text": [
            "MSE Question 4=  0.41676716722140805\n",
            "MSE Question 3=  0.5523439983981253\n"
          ],
          "name": "stdout"
        }
      ]
    },
    {
      "cell_type": "markdown",
      "metadata": {
        "id": "UgS5BD7LDTP9"
      },
      "source": [
        "MSE for the all around model is much better as it has a lower mean square error"
      ]
    }
  ]
}